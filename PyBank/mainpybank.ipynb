{
 "cells": [
  {
   "cell_type": "code",
   "execution_count": 3,
   "id": "71bf3946",
   "metadata": {},
   "outputs": [
    {
     "name": "stdout",
     "output_type": "stream",
     "text": [
      "Financial Analysis\n",
      "---------------------\n",
      "Total Months: 86\n",
      "Total Profits/Losses: $22564198\n",
      "Average Change: $-8311.11\n",
      "Greatest Increase in Profits: Aug-16 ($1862002)\n",
      "Greatest Decrease in Profits: Feb-14 ($-1825558)\n"
     ]
    },
    {
     "ename": "FileNotFoundError",
     "evalue": "[Errno 2] No such file or directory: 'Analysis/analysis.txt'",
     "output_type": "error",
     "traceback": [
      "\u001b[0;31m---------------------------------------------------------------------------\u001b[0m",
      "\u001b[0;31mFileNotFoundError\u001b[0m                         Traceback (most recent call last)",
      "Input \u001b[0;32mIn [3]\u001b[0m, in \u001b[0;36m<cell line: 50>\u001b[0;34m()\u001b[0m\n\u001b[1;32m     46\u001b[0m     \u001b[38;5;28mprint\u001b[39m(\u001b[38;5;124mf\u001b[39m\u001b[38;5;124m\"\u001b[39m\u001b[38;5;124mGreatest Decrease in Profits: \u001b[39m\u001b[38;5;132;01m{\u001b[39;00mmin_month\u001b[38;5;132;01m}\u001b[39;00m\u001b[38;5;124m ($\u001b[39m\u001b[38;5;132;01m{\u001b[39;00mgreatest_decrease\u001b[38;5;132;01m}\u001b[39;00m\u001b[38;5;124m)\u001b[39m\u001b[38;5;124m\"\u001b[39m)\n\u001b[1;32m     48\u001b[0m output_path \u001b[38;5;241m=\u001b[39m os\u001b[38;5;241m.\u001b[39mpath\u001b[38;5;241m.\u001b[39mjoin(\u001b[38;5;124m\"\u001b[39m\u001b[38;5;124mAnalysis\u001b[39m\u001b[38;5;124m\"\u001b[39m,\u001b[38;5;124m\"\u001b[39m\u001b[38;5;124manalysis.txt\u001b[39m\u001b[38;5;124m\"\u001b[39m)\n\u001b[0;32m---> 50\u001b[0m analysis \u001b[38;5;241m=\u001b[39m \u001b[38;5;28;43mopen\u001b[39;49m\u001b[43m(\u001b[49m\u001b[43moutput_path\u001b[49m\u001b[43m,\u001b[49m\u001b[43m \u001b[49m\u001b[38;5;124;43m\"\u001b[39;49m\u001b[38;5;124;43mw\u001b[39;49m\u001b[38;5;124;43m\"\u001b[39;49m\u001b[43m)\u001b[49m\n\u001b[1;32m     52\u001b[0m analysis\u001b[38;5;241m.\u001b[39mwrite(\u001b[38;5;124m\"\u001b[39m\u001b[38;5;124mFinancial Analysis\u001b[39m\u001b[38;5;130;01m\\n\u001b[39;00m\u001b[38;5;124m\"\u001b[39m)\n\u001b[1;32m     53\u001b[0m analysis\u001b[38;5;241m.\u001b[39mwrite(\u001b[38;5;124m\"\u001b[39m\u001b[38;5;124m---------------------\u001b[39m\u001b[38;5;130;01m\\n\u001b[39;00m\u001b[38;5;124m\"\u001b[39m)\n",
      "\u001b[0;31mFileNotFoundError\u001b[0m: [Errno 2] No such file or directory: 'Analysis/analysis.txt'"
     ]
    }
   ],
   "source": [
    "import csv\n",
    "import os\n",
    "\n",
    "csvpath = os.path.join(\"Resources\",\"budget_data.csv\")\n",
    "\n",
    "with open(csvpath) as csvfile:\n",
    "    csvreader = csv.reader(csvfile, delimiter = \",\")\n",
    "    csv_header = next(csvreader,None)\n",
    "  \n",
    "\n",
    "    monthcount = []\n",
    "    pnl_list = []\n",
    "    pnl_change = []\n",
    "    for row in csvreader:\n",
    "        monthcount.append(row[0])\n",
    "        pnl_list.append(int(row[1]))\n",
    "        \n",
    "    for i in range(1,len(pnl_list)):\n",
    "        change = int(pnl_list[i] - pnl_list[i-1])\n",
    "        pnl_change.append(int(change))\n",
    "        \n",
    "    total_months = len(monthcount)\n",
    "    pnl_total = sum(pnl_list)\n",
    "    change_total = 0\n",
    "    \n",
    "    for i in range(len(pnl_change)):\n",
    "        change_total = change_total + float(pnl_change[i])\n",
    "    \n",
    "    greatest_increase = max(pnl_change)\n",
    "    greatest_decrease = min(pnl_change)\n",
    "    \n",
    "    max_month_index = pnl_change.index(max(pnl_change))\n",
    "    max_month = monthcount[max_month_index+1]\n",
    "\n",
    "    min_month_index = pnl_change.index(min(pnl_change))\n",
    "    min_month = monthcount[min_month_index+1]\n",
    "\n",
    "    pnl_average = round(change_total / len(pnl_change),2)\n",
    "\n",
    "    print(\"Financial Analysis\")\n",
    "    print(\"---------------------\")\n",
    "    print(f\"Total Months: {total_months}\")\n",
    "    print(f\"Total Profits/Losses: ${pnl_total}\")\n",
    "    print(f\"Average Change: ${pnl_average}\")\n",
    "    print(f\"Greatest Increase in Profits: {max_month} (${greatest_increase})\")\n",
    "    print(f\"Greatest Decrease in Profits: {min_month} (${greatest_decrease})\")\n",
    "\n",
    "output_path = os.path.join(\"Analysis\",\"analysis.txt\")\n",
    "\n",
    "analysis = open(output_path, \"w\")\n",
    "    \n",
    "analysis.write(\"Financial Analysis\\n\")\n",
    "analysis.write(\"---------------------\\n\")\n",
    "analysis.write(f\"Total Months: {total_months}\\n\")\n",
    "analysis.write(f\"Total Profits/Losses: ${pnl_total}\\n\")\n",
    "analysis.write(f\"Average Change: ${pnl_average}\\n\")\n",
    "analysis.write(f\"Greatest Increase in Profits: {max_month} (${greatest_increase})\\n\")\n",
    "analysis.write(f\"Greatest Decrease in Profits: {min_month} (${greatest_decrease})\\n\")\n",
    "analysis.close()"
   ]
  },
  {
   "cell_type": "code",
   "execution_count": null,
   "id": "75c7c670",
   "metadata": {},
   "outputs": [],
   "source": []
  }
 ],
 "metadata": {
  "kernelspec": {
   "display_name": "PythonData",
   "language": "python",
   "name": "pythondata"
  },
  "language_info": {
   "codemirror_mode": {
    "name": "ipython",
    "version": 3
   },
   "file_extension": ".py",
   "mimetype": "text/x-python",
   "name": "python",
   "nbconvert_exporter": "python",
   "pygments_lexer": "ipython3",
   "version": "3.9.12"
  }
 },
 "nbformat": 4,
 "nbformat_minor": 5
}
