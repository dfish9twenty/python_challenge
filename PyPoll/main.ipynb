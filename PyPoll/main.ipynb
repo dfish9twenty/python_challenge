{
 "cells": [
  {
   "cell_type": "code",
   "execution_count": 1,
   "id": "f8b8a20b",
   "metadata": {},
   "outputs": [
    {
     "name": "stdout",
     "output_type": "stream",
     "text": [
      "\n",
      "\n",
      "Election Results          \n",
      "-----------------------------------------------------------\n",
      "Total Votes: 369711\n",
      "-----------------------------------------------------------\n",
      "Charles Casper Stockham: 23.049%   (85213)\n",
      "Diana DeGette: 73.812%   (272892)\n",
      "Raymon Anthony Doane: 3.139%   (11606)\n",
      "-----------------------------------------------------------\n",
      "Winner: Diana DeGette\n",
      "\n",
      "\n"
     ]
    },
    {
     "data": {
      "text/plain": [
       "57"
      ]
     },
     "execution_count": 1,
     "metadata": {},
     "output_type": "execute_result"
    }
   ],
   "source": [
    "import os\n",
    "import csv\n",
    "\n",
    "os.path.join(\"Resources\",\"election_data.csv\")\n",
    "election_data = os.path.join(\"Resources\",\"election_data.csv\")\n",
    "\n",
    "with open(election_data, newline='') as csvfile:\n",
    "    csvreader = csv.reader(csvfile, delimiter=',')\n",
    "    csv_header = next(csvreader)\n",
    "\n",
    "\n",
    "    totalVotes = 0\n",
    "    votesPerCandidate = {}  \n",
    "    \n",
    "    \n",
    "    for row in csvreader:\n",
    "      \n",
    "        totalVotes += 1\n",
    "        \n",
    "        if row[2] not in votesPerCandidate:\n",
    "            votesPerCandidate[row[2]] = 1\n",
    "        else:\n",
    "            votesPerCandidate[row[2]] += 1   \n",
    "        \n",
    "        \n",
    "print('\\n')\n",
    "print(\"Election Results          \")\n",
    "print(\"-----------------------------------------------------------\")\n",
    "print(\"Total Votes: \" + str(totalVotes))\n",
    "print(\"-----------------------------------------------------------\")\n",
    "\n",
    "for candidate, votes in votesPerCandidate.items():\n",
    "    print(candidate + \": \" + \"{:.3%}\".format(votes/totalVotes) + \"   (\" +  str(votes) + \")\")\n",
    "    \n",
    "print(\"-----------------------------------------------------------\") \n",
    "\n",
    "winner = max(votesPerCandidate, key=votesPerCandidate.get)\n",
    "\n",
    "print(f\"Winner: {winner}\")\n",
    "print('\\n')\n",
    "\n",
    "\n",
    "\n",
    "f = open(\"electionResults.txt\", \"w\")\n",
    "f.write(\"Election Results\")\n",
    "f.write('\\n')\n",
    "f.write(\"---------------------------------------------------------\")\n",
    "f.write('\\n')\n",
    "f.write(\"Total Votes: \" + str(totalVotes))\n",
    "f.write('\\n')\n",
    "f.write(\"---------------------------------------------------------\")\n",
    "f.write('\\n')\n",
    "\n",
    "for candidate, votes in votesPerCandidate.items():\n",
    "    f.write(candidate + \": \" + \"{:.3%}\".format(votes/totalVotes) + \"   (\" +  str(votes) + \")\")\n",
    "    f.write('\\n')\n",
    "  \n",
    "f.write(\"---------------------------------------------------------\") \n",
    "f.write('\\n')\n",
    "f.write(f\"Winner: {winner}\")\n",
    "f.write('\\n')\n",
    "f.write('---------------------------------------------------------')\n",
    "\n"
   ]
  },
  {
   "cell_type": "code",
   "execution_count": null,
   "id": "4561bcd8",
   "metadata": {},
   "outputs": [],
   "source": []
  },
  {
   "cell_type": "code",
   "execution_count": null,
   "id": "8ea804d7",
   "metadata": {},
   "outputs": [],
   "source": []
  }
 ],
 "metadata": {
  "kernelspec": {
   "display_name": "PythonData",
   "language": "python",
   "name": "pythondata"
  },
  "language_info": {
   "codemirror_mode": {
    "name": "ipython",
    "version": 3
   },
   "file_extension": ".py",
   "mimetype": "text/x-python",
   "name": "python",
   "nbconvert_exporter": "python",
   "pygments_lexer": "ipython3",
   "version": "3.9.12"
  }
 },
 "nbformat": 4,
 "nbformat_minor": 5
}
