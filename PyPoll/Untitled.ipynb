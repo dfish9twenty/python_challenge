{
 "cells": [
  {
   "cell_type": "code",
   "execution_count": 6,
   "id": "6564922a",
   "metadata": {},
   "outputs": [
    {
     "ename": "FileNotFoundError",
     "evalue": "[Errno 2] No such file or directory: 'Resources/election_data.csv'",
     "output_type": "error",
     "traceback": [
      "\u001b[0;31m---------------------------------------------------------------------------\u001b[0m",
      "\u001b[0;31mFileNotFoundError\u001b[0m                         Traceback (most recent call last)",
      "Input \u001b[0;32mIn [6]\u001b[0m, in \u001b[0;36m<cell line: 15>\u001b[0;34m()\u001b[0m\n\u001b[1;32m     11\u001b[0m votesPerCandidate \u001b[38;5;241m=\u001b[39m {}\n\u001b[1;32m     14\u001b[0m \u001b[38;5;66;03m# open up election_data\u001b[39;00m\n\u001b[0;32m---> 15\u001b[0m \u001b[38;5;28;01mwith\u001b[39;00m \u001b[38;5;28;43mopen\u001b[39;49m\u001b[43m(\u001b[49m\u001b[43melection_data\u001b[49m\u001b[43m,\u001b[49m\u001b[43m \u001b[49m\u001b[43mnewline\u001b[49m\u001b[38;5;241;43m=\u001b[39;49m\u001b[38;5;124;43m'\u001b[39;49m\u001b[38;5;124;43m'\u001b[39;49m\u001b[43m)\u001b[49m \u001b[38;5;28;01mas\u001b[39;00m csvfile:\n\u001b[1;32m     16\u001b[0m     csvreader \u001b[38;5;241m=\u001b[39m csv\u001b[38;5;241m.\u001b[39mreader(csvfile, delimiter\u001b[38;5;241m=\u001b[39m\u001b[38;5;124m'\u001b[39m\u001b[38;5;124m,\u001b[39m\u001b[38;5;124m'\u001b[39m)\n\u001b[1;32m     17\u001b[0m     csv_header \u001b[38;5;241m=\u001b[39m \u001b[38;5;28mnext\u001b[39m(csvreader)\n",
      "\u001b[0;31mFileNotFoundError\u001b[0m: [Errno 2] No such file or directory: 'Resources/election_data.csv'"
     ]
    }
   ],
   "source": [
    "import os\n",
    "import csv\n",
    "\n",
    "os.path.join(\"Resources\",\"election_data.csv\")\n",
    "election_data = os.path.join(\"Resources\",\"election_data.csv\")\n",
    "\n",
    "# Define the variable\n",
    "totalVotes = 0\n",
    "\n",
    "# Creates a dictionary to store the votes\n",
    "votesPerCandidate = {}\n",
    "\n",
    "\n",
    "# open up election_data\n",
    "with open(election_data, newline='') as csvfile:\n",
    "    csvreader = csv.reader(csvfile, delimiter=',')\n",
    "    csv_header = next(csvreader)\n",
    "\n",
    "\n",
    "    # Read each row of data after the header\n",
    "    for row in csvreader:\n",
    "\n",
    "        # Counts the number of votes       \n",
    "        totalVotes += 1\n",
    "        \n",
    "        if row[2] not in votesPerCandidate:\n",
    "            votesPerCandidate[row[2]] = 1\n",
    "        else:\n",
    "            votesPerCandidate[row[2]] += 1   \n",
    "        \n",
    "        \n",
    "print('\\n')\n",
    "print(\"Election Results          \")\n",
    "print(\"--------------------------------------------\")\n",
    "print(\"Total Votes: \" + str(totalVotes))\n",
    "print(\"--------------------------------------------\")\n",
    "\n",
    "for candidate, votes in votesPerCandidate.items():\n",
    "    print(candidate + \": \" + \"{:.3%}\".format(votes/totalVotes) + \"   (\" +  str(votes) + \")\")\n",
    "    \n",
    "print(\"--------------------------------------------\") \n",
    "\n",
    "winner = max(votesPerCandidate, key=votesPerCandidate.get)\n",
    "\n",
    "print(f\"Winner: {winner}\")\n",
    "print('\\n')\n",
    "\n",
    "# now write this to an output file\n",
    "\n",
    "f = open(\"electionResults.txt\", \"w\")\n",
    "f.write(\"Election Results\")\n",
    "f.write('\\n')\n",
    "f.write(\"-----------------------------------------\")\n",
    "f.write('\\n')\n",
    "f.write(\"Total Votes: \" + str(totalVotes))\n",
    "f.write('\\n')\n",
    "f.write(\"-----------------------------------------\")\n",
    "f.write('\\n')\n",
    "\n",
    "for candidate, votes in votesPerCandidate.items():\n",
    "    f.write(candidate + \": \" + \"{:.3%}\".format(votes/totalVotes) + \"   (\" +  str(votes) + \")\")\n",
    "    f.write('\\n')\n",
    "  \n",
    "f.write(\"-----------------------------------------\") \n",
    "f.write('\\n')\n",
    "f.write(f\"Winner: {winner}\")\n",
    "f.write('\\n')\n",
    "f.write('-----------------------------------------')\n",
    "\n"
   ]
  },
  {
   "cell_type": "code",
   "execution_count": null,
   "id": "9356aafc",
   "metadata": {},
   "outputs": [],
   "source": []
  }
 ],
 "metadata": {
  "kernelspec": {
   "display_name": "PythonData",
   "language": "python",
   "name": "pythondata"
  },
  "language_info": {
   "codemirror_mode": {
    "name": "ipython",
    "version": 3
   },
   "file_extension": ".py",
   "mimetype": "text/x-python",
   "name": "python",
   "nbconvert_exporter": "python",
   "pygments_lexer": "ipython3",
   "version": "3.9.12"
  }
 },
 "nbformat": 4,
 "nbformat_minor": 5
}
